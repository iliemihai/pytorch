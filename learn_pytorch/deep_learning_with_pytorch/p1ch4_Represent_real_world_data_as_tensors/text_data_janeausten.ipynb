{
 "cells": [
  {
   "cell_type": "code",
   "execution_count": 1,
   "metadata": {},
   "outputs": [],
   "source": [
    "import pandas as pd\n",
    "import numpy as np\n",
    "import torch\n",
    "#torch.set_printoptions(edgeitems=2, precision=2)"
   ]
  },
  {
   "cell_type": "code",
   "execution_count": 9,
   "metadata": {},
   "outputs": [],
   "source": [
    "with open('./jane_austen.txt', encoding='utf8') as f:\n",
    "    text = f.read()"
   ]
  },
  {
   "cell_type": "code",
   "execution_count": 12,
   "metadata": {},
   "outputs": [
    {
     "data": {
      "text/plain": [
       "'      Michaelmas, and some of his servants are to be in the house by'"
      ]
     },
     "execution_count": 12,
     "metadata": {},
     "output_type": "execute_result"
    }
   ],
   "source": [
    "lines = text.split('\\n')\n",
    "line = lines[200]\n",
    "line"
   ]
  },
  {
   "cell_type": "code",
   "execution_count": 13,
   "metadata": {},
   "outputs": [
    {
     "data": {
      "text/plain": [
       "torch.Size([68, 128])"
      ]
     },
     "execution_count": 13,
     "metadata": {},
     "output_type": "execute_result"
    }
   ],
   "source": [
    "letter_t = torch.zeros(len(line), 128) # <1> \n",
    "letter_t.shape"
   ]
  },
  {
   "cell_type": "code",
   "execution_count": 15,
   "metadata": {},
   "outputs": [],
   "source": [
    "for i, letter in enumerate(line.lower().strip()):\n",
    "    letter_index = ord(letter) if ord(letter) < 128 else 0  # <1>\n",
    "    letter_t[i][letter_index] = 1"
   ]
  },
  {
   "cell_type": "code",
   "execution_count": 16,
   "metadata": {},
   "outputs": [
    {
     "data": {
      "text/plain": [
       "('      Michaelmas, and some of his servants are to be in the house by',\n",
       " ['michaelmas',\n",
       "  'and',\n",
       "  'some',\n",
       "  'of',\n",
       "  'his',\n",
       "  'servants',\n",
       "  'are',\n",
       "  'to',\n",
       "  'be',\n",
       "  'in',\n",
       "  'the',\n",
       "  'house',\n",
       "  'by'])"
      ]
     },
     "execution_count": 16,
     "metadata": {},
     "output_type": "execute_result"
    }
   ],
   "source": [
    "def clean_words(input_str):\n",
    "    punctuation = '.,;:\"!?”“_-'\n",
    "    word_list = input_str.lower().replace('\\n',' ').split()\n",
    "    word_list = [word.strip(punctuation) for word in word_list]\n",
    "    return word_list\n",
    "\n",
    "words_in_line = clean_words(line)\n",
    "line, words_in_line"
   ]
  },
  {
   "cell_type": "code",
   "execution_count": 17,
   "metadata": {},
   "outputs": [
    {
     "data": {
      "text/plain": [
       "(7277, 3383)"
      ]
     },
     "execution_count": 17,
     "metadata": {},
     "output_type": "execute_result"
    }
   ],
   "source": [
    "word_list = sorted(set(clean_words(text)))\n",
    "word2index_dict = {word: i for (i, word) in enumerate(word_list)}\n",
    "\n",
    "len(word2index_dict), word2index_dict['impossible']"
   ]
  },
  {
   "cell_type": "code",
   "execution_count": 18,
   "metadata": {},
   "outputs": [
    {
     "name": "stdout",
     "output_type": "stream",
     "text": [
      " 0 4167 michaelmas\n",
      " 1  429 and\n",
      " 2 6045 some\n",
      " 3 4511 of\n",
      " 4 3216 his\n",
      " 5 5842 servants\n",
      " 6  531 are\n",
      " 7 6546 to\n",
      " 8  728 be\n",
      " 9 3409 in\n",
      "10 6466 the\n",
      "11 3253 house\n",
      "12  981 by\n",
      "torch.Size([13, 7277])\n"
     ]
    }
   ],
   "source": [
    "word_t = torch.zeros(len(words_in_line), len(word2index_dict))\n",
    "for i, word in enumerate(words_in_line):\n",
    "    word_index = word2index_dict[word]\n",
    "    word_t[i][word_index] = 1\n",
    "    print('{:2} {:4} {}'.format(i, word_index, word))\n",
    "    \n",
    "print(word_t.shape)"
   ]
  },
  {
   "cell_type": "code",
   "execution_count": 19,
   "metadata": {},
   "outputs": [
    {
     "data": {
      "text/plain": [
       "torch.Size([13, 1, 7277])"
      ]
     },
     "execution_count": 19,
     "metadata": {},
     "output_type": "execute_result"
    }
   ],
   "source": [
    "word_t = word_t.unsqueeze(1)\n",
    "word_t.shape"
   ]
  },
  {
   "cell_type": "code",
   "execution_count": 20,
   "metadata": {},
   "outputs": [
    {
     "data": {
      "text/plain": [
       "[('\\n', 10),\n",
       " (' ', 32),\n",
       " ('!', 33),\n",
       " ('#', 35),\n",
       " ('$', 36),\n",
       " ('%', 37),\n",
       " (\"'\", 39),\n",
       " ('(', 40),\n",
       " (')', 41),\n",
       " ('*', 42),\n",
       " (',', 44),\n",
       " ('-', 45),\n",
       " ('.', 46),\n",
       " ('/', 47),\n",
       " ('0', 48),\n",
       " ('1', 49),\n",
       " ('2', 50),\n",
       " ('3', 51),\n",
       " ('4', 52),\n",
       " ('5', 53),\n",
       " ('6', 54),\n",
       " ('7', 55),\n",
       " ('8', 56),\n",
       " ('9', 57),\n",
       " (':', 58),\n",
       " (';', 59),\n",
       " ('?', 63),\n",
       " ('@', 64),\n",
       " ('A', 65),\n",
       " ('B', 66),\n",
       " ('C', 67),\n",
       " ('D', 68),\n",
       " ('E', 69),\n",
       " ('F', 70),\n",
       " ('G', 71),\n",
       " ('H', 72),\n",
       " ('I', 73),\n",
       " ('J', 74),\n",
       " ('K', 75),\n",
       " ('L', 76),\n",
       " ('M', 77),\n",
       " ('N', 78),\n",
       " ('O', 79),\n",
       " ('P', 80),\n",
       " ('Q', 81),\n",
       " ('R', 82),\n",
       " ('S', 83),\n",
       " ('T', 84),\n",
       " ('U', 85),\n",
       " ('V', 86),\n",
       " ('W', 87),\n",
       " ('X', 88),\n",
       " ('Y', 89),\n",
       " ('Z', 90),\n",
       " ('[', 91),\n",
       " (']', 93),\n",
       " ('_', 95),\n",
       " ('a', 97),\n",
       " ('b', 98),\n",
       " ('c', 99),\n",
       " ('d', 100),\n",
       " ('e', 101),\n",
       " ('f', 102),\n",
       " ('g', 103),\n",
       " ('h', 104),\n",
       " ('i', 105),\n",
       " ('j', 106),\n",
       " ('k', 107),\n",
       " ('l', 108),\n",
       " ('m', 109),\n",
       " ('n', 110),\n",
       " ('o', 111),\n",
       " ('p', 112),\n",
       " ('q', 113),\n",
       " ('r', 114),\n",
       " ('s', 115),\n",
       " ('t', 116),\n",
       " ('u', 117),\n",
       " ('v', 118),\n",
       " ('w', 119),\n",
       " ('x', 120),\n",
       " ('y', 121),\n",
       " ('z', 122),\n",
       " ('à', 224),\n",
       " ('é', 233),\n",
       " ('ê', 234),\n",
       " ('—', 8212),\n",
       " ('‘', 8216),\n",
       " ('’', 8217),\n",
       " ('“', 8220),\n",
       " ('”', 8221)]"
      ]
     },
     "execution_count": 20,
     "metadata": {},
     "output_type": "execute_result"
    }
   ],
   "source": [
    "[(c, ord(c)) for c in sorted(set(text))]"
   ]
  },
  {
   "cell_type": "code",
   "execution_count": 21,
   "metadata": {},
   "outputs": [
    {
     "data": {
      "text/plain": [
       "108"
      ]
     },
     "execution_count": 21,
     "metadata": {},
     "output_type": "execute_result"
    }
   ],
   "source": [
    "ord('l')"
   ]
  }
 ],
 "metadata": {
  "kernelspec": {
   "display_name": "Python 3",
   "language": "python",
   "name": "python3"
  },
  "language_info": {
   "codemirror_mode": {
    "name": "ipython",
    "version": 3
   },
   "file_extension": ".py",
   "mimetype": "text/x-python",
   "name": "python",
   "nbconvert_exporter": "python",
   "pygments_lexer": "ipython3",
   "version": "3.6.9"
  }
 },
 "nbformat": 4,
 "nbformat_minor": 4
}
